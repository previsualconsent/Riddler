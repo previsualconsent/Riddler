{
 "cells": [
  {
   "cell_type": "markdown",
   "metadata": {},
   "source": [
    "## Riddler Express\n",
    "\n",
    "[Link](https://fivethirtyeight.com/features/the-little-mathematically-determined-house-on-the-prairie/)\n",
    "\n",
    "To solve this problem, I calculated a transition matrix where each state is how many umbrellas are at home.\n",
    "\n",
    "The value in each element in the matrix $M_{ij}$ is the probability of transitioning between state $i$ and state $j$ while staying dry."
   ]
  },
  {
   "cell_type": "code",
   "execution_count": 2,
   "metadata": {},
   "outputs": [],
   "source": [
    "import numpy as np\n",
    "AM = np.array([\n",
    "    [0.5, 0.5, 0. , 0. ],\n",
    "    [0. , 0.5, 0.5, 0. ],\n",
    "    [0. , 0. , 0.5, 0.5],\n",
    "    [0. , 0. , 0. , 0.5]\n",
    "])\n",
    "\n",
    "PM = np.array([\n",
    "    [0.6, 0. , 0. , 0. ],\n",
    "    [0.4, 0.6, 0. , 0. ],\n",
    "    [0. , 0.4, 0.6, 0. ],\n",
    "    [0. , 0. , 0.4, 0.6]\n",
    "])"
   ]
  },
  {
   "cell_type": "markdown",
   "metadata": {},
   "source": [
    "This shows how different states transition after the walk to the office in the morning.\n",
    "\n",
    "There is a 50% chance that the number of umbrellas stays the same , i.e. the state doesn't change, and a 50% the number of umbrellas goes down by one except if there are no umbrellas. The magnitude of the final state is the probability that Louie stays dry after the transition. Here you can see the probability of staying dry is 100% unless there are no umbrellas at home, then it is 50%."
   ]
  },
  {
   "cell_type": "code",
   "execution_count": 4,
   "metadata": {},
   "outputs": [
    {
     "name": "stdout",
     "output_type": "stream",
     "text": [
      "N  Initial       After Morning\n",
      "0 [1. 0. 0. 0.] [0.5 0.  0.  0. ]\n",
      "1 [0. 1. 0. 0.] [0.5 0.5 0.  0. ]\n",
      "2 [0. 0. 1. 0.] [0.  0.5 0.5 0. ]\n",
      "3 [0. 0. 0. 1.] [0.  0.  0.5 0.5]\n"
     ]
    }
   ],
   "source": [
    "print \"N  Initial       After Morning\"\n",
    "\n",
    "for umbrellas_at_home in range(4):\n",
    "    state = np.zeros(4)\n",
    "    state[umbrellas_at_home] = 1\n",
    "    print umbrellas_at_home, state, np.matmul(AM, state)"
   ]
  },
  {
   "cell_type": "markdown",
   "metadata": {},
   "source": [
    "So we start with the state where 2 umbrellas are at home and multiply by $PM*AM$ 5 times. The sum of the final state should be the probability of staying dry."
   ]
  },
  {
   "cell_type": "code",
   "execution_count": 5,
   "metadata": {},
   "outputs": [
    {
     "data": {
      "text/plain": [
       "(0.6927, 3.0730000000000004)"
      ]
     },
     "execution_count": 5,
     "metadata": {},
     "output_type": "execute_result"
    }
   ],
   "source": [
    "state = np.array([0,0,1,0])\n",
    "\n",
    "day = np.matmul(PM,AM)\n",
    "week = np.linalg.matrix_power(day,5)\n",
    "endstate = np.matmul(week,state)\n",
    "\n",
    "sum(endstate), (1-sum(endstate))*5*2"
   ]
  },
  {
   "cell_type": "markdown",
   "metadata": {},
   "source": [
    "Louie has a 69.27% chance of staying dry after 5 days. So he will be rained on about 3 times."
   ]
  },
  {
   "cell_type": "code",
   "execution_count": null,
   "metadata": {},
   "outputs": [],
   "source": []
  }
 ],
 "metadata": {
  "kernelspec": {
   "display_name": "Python 2",
   "language": "python",
   "name": "python2"
  },
  "language_info": {
   "codemirror_mode": {
    "name": "ipython",
    "version": 2
   },
   "file_extension": ".py",
   "mimetype": "text/x-python",
   "name": "python",
   "nbconvert_exporter": "python",
   "pygments_lexer": "ipython2",
   "version": "2.7.15"
  }
 },
 "nbformat": 4,
 "nbformat_minor": 2
}
